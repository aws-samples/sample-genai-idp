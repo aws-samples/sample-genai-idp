{
 "cells": [
  {
   "cell_type": "markdown",
   "metadata": {},
   "source": [
    "# Example Notebook for Pattern-2 Extraction Function\n",
    "\n",
    "This notebook demonstrates how to:\n",
    "1. Install required dependencies from requirements.txt\n",
    "2. Set up environment variables\n",
    "3. Import the Lambda function code\n",
    "4. Create a test payload\n",
    "5. Invoke the handler function\n",
    "6. Print and analyze the results"
   ]
  },
  {
   "cell_type": "markdown",
   "metadata": {},
   "source": [
    "## 1. Install required dependencies"
   ]
  },
  {
   "cell_type": "code",
   "execution_count": 16,
   "metadata": {},
   "outputs": [
    {
     "name": "stdout",
     "output_type": "stream",
     "text": [
      "Note: you may need to restart the kernel to use updated packages.\n",
      "Note: you may need to restart the kernel to use updated packages.\n"
     ]
    }
   ],
   "source": [
    "# Install main requirements separately to avoid path issues\n",
    "%pip install -q boto3 pillow\n",
    "%pip install -q ../../../../lib/get_config_pkg/"
   ]
  },
  {
   "cell_type": "markdown",
   "metadata": {},
   "source": [
    "## 2. Set up environment variables\n",
    "\n",
    "Set all required environment variables before importing the Lambda function code"
   ]
  },
  {
   "cell_type": "code",
   "execution_count": 17,
   "metadata": {},
   "outputs": [
    {
     "name": "stdout",
     "output_type": "stream",
     "text": [
      "Environment variables set:\n",
      "METRIC_NAMESPACE: IDP-Pattern2-Notebook\n",
      "OCR_TEXT_ONLY: false\n",
      "CONFIGURATION_TABLE_NAME: mock-config-table\n"
     ]
    }
   ],
   "source": [
    "import os\n",
    "import sys\n",
    "import json\n",
    "import boto3\n",
    "from PIL import Image\n",
    "from io import BytesIO\n",
    "\n",
    "# Set required environment variables\n",
    "os.environ['METRIC_NAMESPACE'] = 'IDP-Pattern2-Notebook'\n",
    "os.environ['OCR_TEXT_ONLY'] = 'false'\n",
    "os.environ['CONFIGURATION_TABLE_NAME'] = 'mock-config-table'\n",
    "\n",
    "# Print currently set environment variables\n",
    "print(\"Environment variables set:\")\n",
    "print(f\"METRIC_NAMESPACE: {os.environ.get('METRIC_NAMESPACE')}\")\n",
    "print(f\"OCR_TEXT_ONLY: {os.environ.get('OCR_TEXT_ONLY')}\")\n",
    "print(f\"CONFIGURATION_TABLE_NAME: {os.environ.get('CONFIGURATION_TABLE_NAME')}\")"
   ]
  },
  {
   "cell_type": "markdown",
   "metadata": {},
   "source": [
    "## 3. Mock the get_config function\n",
    "\n",
    "To avoid needing a real DynamoDB table, we'll mock the get_config function"
   ]
  },
  {
   "cell_type": "code",
   "execution_count": 18,
   "metadata": {},
   "outputs": [
    {
     "name": "stdout",
     "output_type": "stream",
     "text": [
      "Mocked get_config function with test configuration\n"
     ]
    }
   ],
   "source": [
    "# Create a mock for the get_config module\n",
    "import sys\n",
    "from unittest.mock import patch\n",
    "import get_config\n",
    "\n",
    "# Sample configuration that mimics what would be in DynamoDB\n",
    "MOCK_CONFIG = {\n",
    "    \"classes\": [\n",
    "        {\n",
    "            \"name\": \"application_form\",\n",
    "            \"attributes\": [\n",
    "                {\n",
    "                    \"name\": \"name\",\n",
    "                    \"description\": \"The full name of the applicant\"\n",
    "                },\n",
    "                {\n",
    "                    \"name\": \"address\",\n",
    "                    \"description\": \"The mailing address of the applicant\"\n",
    "                },\n",
    "                {\n",
    "                    \"name\": \"date\",\n",
    "                    \"description\": \"The date on the application\"\n",
    "                }\n",
    "            ]\n",
    "        }\n",
    "    ],\n",
    "    \"extraction\": {\n",
    "        \"model\": \"anthropic.claude-3-sonnet-20240229-v1:0\",\n",
    "        \"temperature\": \"0.1\",\n",
    "        \"top_k\": \"0.5\",\n",
    "        \"system_prompt\": \"You are an expert document extraction assistant. Extract the requested information carefully from the document.\",\n",
    "        \"task_prompt\": \"Extract the following attributes from this {DOCUMENT_CLASS} document:\\n\\n{ATTRIBUTE_NAMES_AND_DESCRIPTIONS}\\n\\nDocument Text:\\n{DOCUMENT_TEXT}\\n\\nProvide your response as a well-formatted JSON object with the attribute names as keys.\"\n",
    "    }\n",
    "}\n",
    "\n",
    "# Mock the get_config function\n",
    "def mock_get_config():\n",
    "    return MOCK_CONFIG\n",
    "\n",
    "# Apply the patch\n",
    "get_config.get_config = mock_get_config\n",
    "\n",
    "print(\"Mocked get_config function with test configuration\")"
   ]
  },
  {
   "cell_type": "markdown",
   "metadata": {},
   "source": [
    "## 4. Import the Lambda function code"
   ]
  },
  {
   "cell_type": "code",
   "execution_count": 19,
   "metadata": {},
   "outputs": [
    {
     "name": "stdout",
     "output_type": "stream",
     "text": [
      "Boto3 version:  1.37.13\n",
      "Successfully imported index.py\n"
     ]
    }
   ],
   "source": [
    "# Add extraction_function directory to path so we can import index.py\n",
    "sys.path.append('../extraction_function')\n",
    "\n",
    "# Now import the Lambda function code\n",
    "import index\n",
    "print(\"Successfully imported index.py\")"
   ]
  },
  {
   "cell_type": "markdown",
   "metadata": {},
   "source": [
    "## 5. Create a test payload\n",
    "\n",
    "We'll create a test event similar to what the Lambda function expects when invoked by Step Functions."
   ]
  },
  {
   "cell_type": "code",
   "execution_count": 20,
   "metadata": {},
   "outputs": [
    {
     "name": "stdout",
     "output_type": "stream",
     "text": [
      "Test payload created.\n"
     ]
    }
   ],
   "source": [
    "# Create a mock S3 client for testing\n",
    "def mock_setup():\n",
    "    # This is a simple mock that would need to be expanded for actual testing\n",
    "    # For now, we'll just patch a few methods\n",
    "    \n",
    "    original_get_object = index.s3_client.get_object\n",
    "    original_put_object = index.s3_client.put_object\n",
    "    original_put_metric = index.put_metric\n",
    "    \n",
    "    # Mock the CloudWatch metrics\n",
    "    def mock_put_metric(name, value, unit='Count', dimensions=None):\n",
    "        print(f\"[MOCK] Publishing metric {name}: {value} {unit}\")\n",
    "    \n",
    "    # Replace the function with our mock\n",
    "    index.put_metric = mock_put_metric\n",
    "    \n",
    "    # Create sample text and image data\n",
    "    sample_text = '{\"text\": \"This is a sample document for testing extraction. It contains information like Name: John Doe, Address: 123 Main St, and Date: 2023-01-15.\"}'\n",
    "    \n",
    "    # Create a simple image\n",
    "    img = Image.new('RGB', (100, 100), color = 'white')\n",
    "    img_bytes = BytesIO()\n",
    "    img.save(img_bytes, format='JPEG')\n",
    "    img_bytes = img_bytes.getvalue()\n",
    "    \n",
    "    # Mock S3 get_object\n",
    "    def mock_get_object(Bucket, Key):\n",
    "        print(f\"[MOCK] Getting object from bucket {Bucket}, key {Key}\")\n",
    "        if Key.endswith('.json'):\n",
    "            return {\n",
    "                'Body': BytesIO(sample_text.encode('utf-8'))\n",
    "            }\n",
    "        else:  # Assume image\n",
    "            return {\n",
    "                'Body': BytesIO(img_bytes)\n",
    "            }\n",
    "    \n",
    "    # Mock S3 put_object\n",
    "    def mock_put_object(Bucket, Key, Body, ContentType):\n",
    "        print(f\"[MOCK] Putting object to bucket {Bucket}, key {Key}\")\n",
    "        return {}\n",
    "    \n",
    "    # Replace the S3 client methods\n",
    "    index.s3_client.get_object = mock_get_object\n",
    "    index.s3_client.put_object = mock_put_object\n",
    "    \n",
    "    # Mock Bedrock\n",
    "    def mock_converse(modelId, messages, system, inferenceConfig, additionalModelRequestFields):\n",
    "        print(f\"[MOCK] Calling Bedrock model {modelId}\")\n",
    "        print(f\"[MOCK] System prompt: {system}\")\n",
    "        print(f\"[MOCK] Messages: {json.dumps(messages[0]['content'][0], indent=2)}\")\n",
    "        \n",
    "        # Return mock response\n",
    "        return {\n",
    "            'output': {\n",
    "                'message': {\n",
    "                    'content': [\n",
    "                        {\n",
    "                            'text': json.dumps({\n",
    "                                \"name\": \"John Doe\",\n",
    "                                \"address\": \"123 Main St\",\n",
    "                                \"date\": \"2023-01-15\"\n",
    "                            }, indent=2)\n",
    "                        }\n",
    "                    ]\n",
    "                }\n",
    "            },\n",
    "            'usage': {\n",
    "                'inputTokens': 1500,\n",
    "                'outputTokens': 300,\n",
    "                'totalTokens': 1800\n",
    "            }\n",
    "        }\n",
    "    \n",
    "    index.bedrock_client.converse = mock_converse\n",
    "    \n",
    "    # Return a function to restore original methods\n",
    "    def restore():\n",
    "        index.s3_client.get_object = original_get_object\n",
    "        index.s3_client.put_object = original_put_object\n",
    "        index.put_metric = original_put_metric\n",
    "    \n",
    "    return restore\n",
    "\n",
    "# Call mock setup\n",
    "restore_mocks = mock_setup()\n",
    "\n",
    "# Create test event payload\n",
    "test_event = {\n",
    "    \"output_bucket\": \"example-idp-bucket\",\n",
    "    \"metadata\": {\n",
    "        \"input_bucket\": \"example-idp-bucket\",\n",
    "        \"object_key\": \"samples/document1.pdf\",\n",
    "        \"output_bucket\": \"example-idp-bucket\",\n",
    "        \"output_prefix\": \"samples/document1.pdf\",\n",
    "        \"num_pages\": 3\n",
    "    },\n",
    "    \"execution_arn\": \"arn:aws:states:us-east-1:123456789012:execution:IDPWorkflow:example\",\n",
    "    \"section\": {\n",
    "        \"id\": \"section1\",\n",
    "        \"class\": \"application_form\",\n",
    "        \"pages\": [\n",
    "            {\n",
    "                \"page_id\": \"1\",\n",
    "                \"class\": \"application_form\",\n",
    "                \"rawTextUri\": \"s3://example-idp-bucket/samples/document1.pdf/pages/1/raw_text.json\",\n",
    "                \"parsedTextUri\": \"s3://example-idp-bucket/samples/document1.pdf/pages/1/parsed_text.json\",\n",
    "                \"imageUri\": \"s3://example-idp-bucket/samples/document1.pdf/pages/1/image.jpg\"\n",
    "            },\n",
    "            {\n",
    "                \"page_id\": \"2\",\n",
    "                \"class\": \"application_form\",\n",
    "                \"rawTextUri\": \"s3://example-idp-bucket/samples/document1.pdf/pages/2/raw_text.json\",\n",
    "                \"parsedTextUri\": \"s3://example-idp-bucket/samples/document1.pdf/pages/2/parsed_text.json\",\n",
    "                \"imageUri\": \"s3://example-idp-bucket/samples/document1.pdf/pages/2/image.jpg\"\n",
    "            }\n",
    "        ]\n",
    "    }\n",
    "}\n",
    "\n",
    "print(\"Test payload created.\")"
   ]
  },
  {
   "cell_type": "markdown",
   "metadata": {},
   "source": [
    "## 6. Invoke the handler function"
   ]
  },
  {
   "cell_type": "code",
   "execution_count": 21,
   "metadata": {},
   "outputs": [
    {
     "name": "stdout",
     "output_type": "stream",
     "text": [
      "Invoking Lambda handler function...\n",
      "[MOCK] Getting object from bucket example-idp-bucket, key samples/document1.pdf/pages/1/parsed_text.json\n",
      "[MOCK] Getting object from bucket example-idp-bucket, key samples/document1.pdf/pages/2/parsed_text.json\n",
      "[MOCK] Getting object from bucket example-idp-bucket, key samples/document1.pdf/pages/1/image.jpg\n",
      "[MOCK] Getting object from bucket example-idp-bucket, key samples/document1.pdf/pages/2/image.jpg\n",
      "[MOCK] Publishing metric BedrockRequestsTotal: 1 Count\n",
      "[MOCK] Calling Bedrock model anthropic.claude-3-sonnet-20240229-v1:0\n",
      "[MOCK] System prompt: [{'text': 'You are an expert document extraction assistant. Extract the requested information carefully from the document.'}]\n",
      "[MOCK] Messages: {\n",
      "  \"text\": \"Extract the following attributes from this application_form document:\\n\\nname  \\t[ The full name of the applicant ]\\naddress  \\t[ The mailing address of the applicant ]\\ndate  \\t[ The date on the application ]\\n\\nDocument Text:\\nThis is a sample document for testing extraction. It contains information like Name: John Doe, Address: 123 Main St, and Date: 2023-01-15.\\nThis is a sample document for testing extraction. It contains information like Name: John Doe, Address: 123 Main St, and Date: 2023-01-15.\\n\\nProvide your response as a well-formatted JSON object with the attribute names as keys.\"\n",
      "}\n",
      "[MOCK] Publishing metric BedrockRequestsSucceeded: 1 Count\n",
      "[MOCK] Publishing metric BedrockRequestLatency: 0.06127357482910156 Milliseconds\n",
      "[MOCK] Publishing metric InputTokens: 1500 Count\n",
      "[MOCK] Publishing metric OutputTokens: 300 Count\n",
      "[MOCK] Publishing metric TotalTokens: 1800 Count\n",
      "[MOCK] Publishing metric BedrockTotalLatency: 0.13113021850585938 Milliseconds\n",
      "[MOCK] Putting object to bucket example-idp-bucket, key samples/document1.pdf/sections/section1/result.json\n",
      "[MOCK] Publishing metric InputDocuments: 1 Count\n",
      "[MOCK] Publishing metric InputDocumentPages: 2 Count\n",
      "\n",
      "Handler function executed successfully!\n"
     ]
    }
   ],
   "source": [
    "# Create a mock context object (Lambda context)\n",
    "class MockContext:\n",
    "    def __init__(self):\n",
    "        self.function_name = \"extraction_function\"\n",
    "        self.memory_limit_in_mb = 256\n",
    "        self.invoked_function_arn = \"arn:aws:lambda:us-east-1:123456789012:function:extraction_function\"\n",
    "        self.aws_request_id = \"52fdfc07-2182-154f-163f-5f0f9a621d72\"\n",
    "\n",
    "# Create context\n",
    "context = MockContext()\n",
    "\n",
    "# Call the handler function\n",
    "try:\n",
    "    print(\"Invoking Lambda handler function...\")\n",
    "    result = index.handler(test_event, context)\n",
    "    print(\"\\nHandler function executed successfully!\")\n",
    "except Exception as e:\n",
    "    print(f\"Error executing handler: {str(e)}\")"
   ]
  },
  {
   "cell_type": "markdown",
   "metadata": {},
   "source": [
    "## 7. Print and analyze the results"
   ]
  },
  {
   "cell_type": "code",
   "execution_count": 22,
   "metadata": {},
   "outputs": [
    {
     "name": "stdout",
     "output_type": "stream",
     "text": [
      "Lambda function output payload:\n",
      "{\n",
      "  \"section\": {\n",
      "    \"id\": \"section1\",\n",
      "    \"class\": \"application_form\",\n",
      "    \"page_ids\": [\n",
      "      \"1\",\n",
      "      \"2\"\n",
      "    ],\n",
      "    \"outputJSONUri\": \"s3://example-idp-bucket/samples/document1.pdf/sections/section1/result.json\"\n",
      "  },\n",
      "  \"pages\": [\n",
      "    {\n",
      "      \"page_id\": \"1\",\n",
      "      \"class\": \"application_form\",\n",
      "      \"rawTextUri\": \"s3://example-idp-bucket/samples/document1.pdf/pages/1/raw_text.json\",\n",
      "      \"parsedTextUri\": \"s3://example-idp-bucket/samples/document1.pdf/pages/1/parsed_text.json\",\n",
      "      \"imageUri\": \"s3://example-idp-bucket/samples/document1.pdf/pages/1/image.jpg\"\n",
      "    },\n",
      "    {\n",
      "      \"page_id\": \"2\",\n",
      "      \"class\": \"application_form\",\n",
      "      \"rawTextUri\": \"s3://example-idp-bucket/samples/document1.pdf/pages/2/raw_text.json\",\n",
      "      \"parsedTextUri\": \"s3://example-idp-bucket/samples/document1.pdf/pages/2/parsed_text.json\",\n",
      "      \"imageUri\": \"s3://example-idp-bucket/samples/document1.pdf/pages/2/image.jpg\"\n",
      "    }\n",
      "  ]\n",
      "}\n",
      "\n",
      "Extracted section data:\n",
      "Section ID: section1\n",
      "Document class: application_form\n",
      "Page IDs: ['1', '2']\n",
      "Output JSON URI: s3://example-idp-bucket/samples/document1.pdf/sections/section1/result.json\n"
     ]
    }
   ],
   "source": [
    "# Print the output payload\n",
    "print(\"Lambda function output payload:\")\n",
    "print(json.dumps(result, indent=2))\n",
    "\n",
    "# Display some key insights from the results\n",
    "print(\"\\nExtracted section data:\")\n",
    "print(f\"Section ID: {result['section']['id']}\")\n",
    "print(f\"Document class: {result['section']['class']}\")\n",
    "print(f\"Page IDs: {result['section']['page_ids']}\")\n",
    "print(f\"Output JSON URI: {result['section']['outputJSONUri']}\")\n",
    "\n",
    "# Clean up mocks\n",
    "restore_mocks()"
   ]
  },
  {
   "cell_type": "markdown",
   "metadata": {},
   "source": [
    "## Conclusion\n",
    "\n",
    "This notebook demonstrates how to test a Lambda function locally in a Jupyter environment. The approach includes:\n",
    "\n",
    "1. Installing required dependencies\n",
    "2. Setting up environment variables **before** importing the Lambda code\n",
    "3. Mocking the config system to avoid DynamoDB dependencies\n",
    "4. Mocking AWS services (S3, Bedrock, CloudWatch)\n",
    "5. Creating a test event that mimics what the function would receive in production\n",
    "6. Invoking the handler function\n",
    "7. Analyzing the results\n",
    "\n",
    "To test with real AWS services instead of mocks, you would need to:\n",
    "1. Configure proper AWS credentials\n",
    "2. Create actual S3 buckets and objects\n",
    "3. Have access to Amazon Bedrock with appropriate models configured\n",
    "4. Set up a real DynamoDB configuration table"
   ]
  }
 ],
 "metadata": {
  "kernelspec": {
   "display_name": "Python 3",
   "language": "python",
   "name": "python3"
  },
  "language_info": {
   "codemirror_mode": {
    "name": "ipython",
    "version": 3
   },
   "file_extension": ".py",
   "mimetype": "text/x-python",
   "name": "python",
   "nbconvert_exporter": "python",
   "pygments_lexer": "ipython3",
   "version": "3.9.0"
  }
 },
 "nbformat": 4,
 "nbformat_minor": 4
}
