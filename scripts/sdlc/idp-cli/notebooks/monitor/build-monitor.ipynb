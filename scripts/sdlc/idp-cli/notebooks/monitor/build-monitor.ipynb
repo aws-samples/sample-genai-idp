{
 "cells": [
  {
   "cell_type": "code",
   "execution_count": 1,
   "metadata": {},
   "outputs": [
    {
     "data": {
      "text/plain": [
       "True"
      ]
     },
     "execution_count": 1,
     "metadata": {},
     "output_type": "execute_result"
    }
   ],
   "source": [
    "%load_ext autoreload\n",
    "%autoreload 2\n",
    "\n",
    "import json\n",
    "from IPython.display import Markdown, JSON\n",
    "from dotenv import load_dotenv\n",
    "\n",
    "from loguru import logger\n",
    "\n",
    "load_dotenv()"
   ]
  },
  {
   "cell_type": "code",
   "execution_count": 2,
   "metadata": {},
   "outputs": [
    {
     "name": "stderr",
     "output_type": "stream",
     "text": [
      "\u001b[32m2025-02-27 18:45:47.778\u001b[0m | \u001b[1mINFO    \u001b[0m | \u001b[36midp_cli.util.codepipeline_util\u001b[0m:\u001b[36mwait_for_pipeline_execution\u001b[0m:\u001b[36m26\u001b[0m - \u001b[1mWaiting 10 seconds for pipeline 'idp-sdlc-deploy-pipeline' to start...\u001b[0m\n",
      "\u001b[32m2025-02-27 18:45:58.141\u001b[0m | \u001b[32m\u001b[1mSUCCESS \u001b[0m | \u001b[36midp_cli.util.codepipeline_util\u001b[0m:\u001b[36mwait_for_pipeline_execution\u001b[0m:\u001b[36m65\u001b[0m - \u001b[32m\u001b[1mPipeline 'idp-sdlc-deploy-pipeline' execution completed successfully!\u001b[0m\n"
     ]
    }
   ],
   "source": [
    "from idp_cli.util.codepipeline_util import CodePipelineUtil\n",
    "\n",
    "\n",
    "CodePipelineUtil.wait_for_pipeline_execution(pipeline_name=\"idp-sdlc-deploy-pipeline\", initial_wait_seconds=10)"
   ]
  }
 ],
 "metadata": {
  "kernelspec": {
   "display_name": "idp",
   "language": "python",
   "name": "python3"
  },
  "language_info": {
   "codemirror_mode": {
    "name": "ipython",
    "version": 3
   },
   "file_extension": ".py",
   "mimetype": "text/x-python",
   "name": "python",
   "nbconvert_exporter": "python",
   "pygments_lexer": "ipython3",
   "version": "3.13.2"
  }
 },
 "nbformat": 4,
 "nbformat_minor": 2
}
